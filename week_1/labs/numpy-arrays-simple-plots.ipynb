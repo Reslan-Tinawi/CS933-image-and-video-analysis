{
 "cells": [
  {
   "cell_type": "markdown",
   "metadata": {},
   "source": [
    "# numpy arrays,  images and simple plotting\n",
    "\n",
    "The objectives of this short Python/numpy tutorial is to become familiar with\n",
    "\n",
    "+ numpy arrays\n",
    "+ random number generators, np.random\n",
    "+ simple plots using pyplot\n",
    "+ making a 2D array, indexing and using imshow\n",
    "+ do some image thresholding"
   ]
  },
  {
   "cell_type": "code",
   "execution_count": null,
   "metadata": {},
   "outputs": [],
   "source": [
    "import numpy as np\n",
    " "
   ]
  },
  {
   "cell_type": "code",
   "execution_count": null,
   "metadata": {},
   "outputs": [],
   "source": [
    "\n",
    "# my first array is has 5 elements, given explicitly with a list\n",
    "a = np.array([1, 2, 3, 4, 5])\n",
    "\n",
    "# print out some stuff -- string literals are in single quotes ''\n",
    "print('the whole array is ', a)\n",
    "\n",
    "# index some items in the array\n",
    "print('first item (indexed from 0)', a[0])\n",
    "print('second item is at a[1] = ', a[1])\n",
    "print('sub array: a[1:3] = ', a[1:3])\n",
    "print('last item can be indexed with -1, a[-1] = ', a[-1])\n",
    "\n",
    "print('dimensions of array ', a.size)\n",
    "print('data type of array ', a.dtype)"
   ]
  },
  {
   "cell_type": "code",
   "execution_count": null,
   "metadata": {},
   "outputs": [],
   "source": [
    "# a random array of 10 floating point (real) numbers in range [0, 1]\n",
    "a = np.random.uniform(0, 1, size=10)\n",
    "\n",
    "print('a.size is ', a.size)\n",
    "print('a.dtype is ', a.dtype)\n",
    "print('a is ', a)"
   ]
  },
  {
   "cell_type": "code",
   "execution_count": null,
   "metadata": {},
   "outputs": [],
   "source": [
    "# a 2d array of floats\n",
    "a2d = np.random.uniform(0, 1, size=[8, 8])\n",
    "\n",
    "print('First number a[0, 0] is ', a2d[0, 0])\n",
    "\n",
    "print('Entire array is', a2d)\n",
    "\n",
    "print('Sub array, top-left hand corner is 5x5 is ', a2d[0:5, 0:5])\n",
    "print('Row 1 is ', a2d[0,:]) # the ':' specifies all of the range of columns\n",
    "\n"
   ]
  },
  {
   "cell_type": "code",
   "execution_count": null,
   "metadata": {},
   "outputs": [],
   "source": [
    "# we can plot these numbers if we like using pyplot\n",
    "import matplotlib.pyplot as plt\n",
    "\n",
    "plt.plot(a2d[0,:]) # plot profile of first row\n",
    "plt.show()\n"
   ]
  },
  {
   "cell_type": "code",
   "execution_count": null,
   "metadata": {},
   "outputs": [],
   "source": [
    "# do a scatter plot\n",
    "\n",
    "# select two rows as x and y features\n",
    "x = a2d[0,:]\n",
    "y = a2d[1,:]\n",
    "\n",
    "plt.scatter(x, y)\n",
    "plt.title('Interesting plot of x against y')\n",
    "plt.show()"
   ]
  },
  {
   "cell_type": "code",
   "execution_count": null,
   "metadata": {},
   "outputs": [],
   "source": [
    "# lets make some Gaussian distributed data\n",
    "im = np.random.uniform(0, 1, size=[64, 64])\n",
    "\n",
    "plt.imshow(im, cmap='gray') # show it as a gray scale image!\n",
    "plt.show()"
   ]
  },
  {
   "cell_type": "code",
   "execution_count": null,
   "metadata": {},
   "outputs": [],
   "source": [
    "# let's get some stats on this array\n",
    "# remember it's uniform random numbers in range [0,1]\n",
    "print('mean of entire arrays is ', np.mean(im)) # should be ~0.5\n",
    "print('min value is ', np.min(im)) # ~0\n",
    "print('max value is ', np.max(im)) # ~1 but not quite!"
   ]
  },
  {
   "cell_type": "code",
   "execution_count": null,
   "metadata": {},
   "outputs": [],
   "source": [
    "# now make a new image for values >0.75\n",
    "\n",
    "im_thresh = np.zeros(im.shape, dtype='bool') # copy the original shape\n",
    "\n",
    "# index the new array with indices from the im that satisfy a condition\n",
    "# this is given as a conditional inside the square brackets, e.g. b[a>0] = True\n",
    "im_thresh[im>=0.75] = True # all elements >0.75 set to true\n",
    "im_thresh[im<0.75] = False # else set to false\n",
    "\n",
    "plt.imshow(im_thresh, cmap='gray')\n",
    "plt.show()"
   ]
  },
  {
   "cell_type": "code",
   "execution_count": null,
   "metadata": {},
   "outputs": [],
   "source": [
    "frequency = 0.05 # cycles per pixel\n",
    "\n",
    "n = 128 # how many samples we want\n",
    "\n",
    "sine_wave = np.zeros((n,), dtype='float') # vector of size n\n",
    "print('vector has size ', sine_wave.size)\n",
    "\n",
    "for i in range(0,n): # this is a for loop over i in range [0,n-1]\n",
    "    sine_wave[i] = np.sin(2 * np.pi * frequency * i)\n",
    "\n",
    "# now plot it!\n",
    "plt.plot(sine_wave)\n",
    "plt.show()"
   ]
  },
  {
   "cell_type": "code",
   "execution_count": null,
   "metadata": {},
   "outputs": [],
   "source": [
    "# make a 2d image of the wave\n",
    "\n",
    "wave_im = np.zeros((128, 128)) \n",
    "for i in range(0,wave_im.shape[0]):\n",
    "    wave_im[i,:] = sine_wave # duplicate the wave in each row\n",
    "    \n",
    "plt.imshow(wave_im, cmap='gray')\n",
    "plt.show()\n"
   ]
  }
 ],
 "metadata": {
  "kernelspec": {
   "display_name": "Python 3",
   "language": "python",
   "name": "python3"
  },
  "language_info": {
   "codemirror_mode": {
    "name": "ipython",
    "version": 3
   },
   "file_extension": ".py",
   "mimetype": "text/x-python",
   "name": "python",
   "nbconvert_exporter": "python",
   "pygments_lexer": "ipython3",
   "version": "3.6.8"
  }
 },
 "nbformat": 4,
 "nbformat_minor": 2
}
