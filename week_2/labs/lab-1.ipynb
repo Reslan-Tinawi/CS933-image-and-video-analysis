{
 "cells": [
  {
   "cell_type": "markdown",
   "metadata": {
    "deletable": false,
    "editable": false
   },
   "source": [
    "# CS413 Image and Video Analysis -- Lab 1\n",
    "\n",
    "## Department of Computer Science, University of Warwick\n",
    "## October, 2022"
   ]
  },
  {
   "cell_type": "markdown",
   "metadata": {
    "deletable": false,
    "editable": false
   },
   "source": [
    "## Aims:\n",
    "\n",
    "The aims of this lab are to\n",
    "\n",
    "+ learn about loading, displaying and saving images in Python using: `PIL` (Pillow), `numpy`  and `matplotlib` libraries\n",
    "+ understand how images can be represented as arrays and performing simple manipulations on them\n",
    "+ learn about what is meant by sampling and quantisation of images\n",
    "+ know how to apply blurring operations to overcome aliasing artefacts\n",
    "+ know about image colour channels and manipulating colour spaces\n",
    "+ build a crude colour image compression by color channel subsampling"
   ]
  },
  {
   "cell_type": "markdown",
   "metadata": {
    "deletable": false,
    "editable": false
   },
   "source": [
    "### Basic Image loading,  manipulation and visualisation"
   ]
  },
  {
   "cell_type": "code",
   "execution_count": null,
   "metadata": {
    "deletable": false,
    "editable": false
   },
   "outputs": [],
   "source": [
    "# import statements\n",
    "\n",
    "from PIL import Image  # this contain the image class and methods from PIL library\n",
    "import numpy as np # this imports the numerical and array library \n",
    "\n",
    "import matplotlib.pyplot as plt # this is for plotting (showing) images \n",
    "\n"
   ]
  },
  {
   "cell_type": "code",
   "execution_count": null,
   "metadata": {},
   "outputs": [],
   "source": [
    "# load an image\n",
    "\n",
    "# location of image data -- change this to wherever the lab data is kept\n",
    "data_dir = '/modules/cs413/data/'\n",
    "\n",
    "image = Image.open(data_dir + 'bees.jpeg')\n",
    "\n",
    "# print some information about the image\n",
    "\n",
    "print('image format is ', image.format)\n",
    "print('image mode is ', image.mode)\n",
    "print('image size is ', image.size)\n",
    "\n",
    "# the image size is the width x height"
   ]
  },
  {
   "cell_type": "code",
   "execution_count": null,
   "metadata": {},
   "outputs": [],
   "source": [
    "# make the image into a numpy array so we can access and manipulate the pixel values\n",
    "\n",
    "im = np.asarray(image)\n",
    "\n",
    "print('image array type ', im.dtype)\n",
    "print('image array shape ', im.shape)\n",
    "\n",
    "# notice how the size is now expressed as number of rows x num columns x num of channels\n"
   ]
  },
  {
   "cell_type": "code",
   "execution_count": null,
   "metadata": {},
   "outputs": [],
   "source": [
    "# now we can use pyplot.imshow to display the image\n",
    "\n",
    "plt.imshow(im)\n",
    "plt.show()"
   ]
  },
  {
   "cell_type": "code",
   "execution_count": null,
   "metadata": {},
   "outputs": [],
   "source": [
    "# if we want to make it bigger, remove the figure axis, we can do the following\n",
    "\n",
    "fig = plt.figure(figsize=(10,10))\n",
    "\n",
    "plt.imshow(im)\n",
    "plt.axis('off')\n",
    "\n",
    "plt.show()\n"
   ]
  },
  {
   "cell_type": "markdown",
   "metadata": {
    "deletable": false,
    "editable": false
   },
   "source": [
    "### Other ways to load images into `numpy` arrays...\n",
    "\n",
    "You can also use the `matplotlib.pyplot.imread` function\n",
    "\n",
    "~~~\n",
    "    im = plt.imread(data_dir + 'bees.jpeg')\n",
    "~~~\n",
    "\n",
    "This time, `im` is already a `numpy` array:\n",
    "    \n",
    "~~~~\n",
    "    print(im.shape)\n",
    "    (4032, 3024, 3)\n",
    "~~~~\n",
    "Note that that the image values are normalised on read (to range [0,1]).\n",
    "\n",
    "Note the order of the shape sizes is given as: \n",
    "~~~~\n",
    "    height (number of rows), width (number of columns), number of colour channels\n",
    "~~~~"
   ]
  },
  {
   "cell_type": "code",
   "execution_count": null,
   "metadata": {},
   "outputs": [],
   "source": [
    "im = plt.imread(data_dir + 'bees.jpeg')\n",
    "print(im.shape)"
   ]
  },
  {
   "cell_type": "markdown",
   "metadata": {
    "deletable": false,
    "editable": false
   },
   "source": [
    "## Image representation, numpy arrays and colour:\n",
    "\n",
    "The image is stored as 3 arrays: `im[:,:,0]`, `im[:,:,1]`, `im[:,:,2]`, where the third index \n",
    "    `(0, 1, 2)` is the colour channel (here `0=Red`, `1=Green`, `2=Blue`)\n",
    "    \n",
    "## Exercise 1\n",
    "\n",
    "1. Display the green channel of the 'bees' image\n",
    "2. Create and show a binary image (which has only values 0 and 1), where the pixel value is 1 if the bees image \n",
    "    has more that 50% green (green values > 127)\n",
    "3. Create and show a image where the intensity represents the yellowness of a pixel in the 'bees' image. \n",
    "\n",
    "    a. Note that the colour yellow is when the red and green values are approximately equal, *and* blue is zero (or very small).  So you can try to write an expression for this condition. Remember the output should be a single 'yellowness' score.\n",
    "\n",
    "    b. Another way to solve this problem is to pick a particular yellow, e.g. Y = (255, 255, 0), or Y = (128, 128, 0), and calculate an image where each output pixel value is the *distance* of its (r, g, b) value from this colour 'coordinate'. The smaller this distance, the higher the 'yellowness' score. Hint: in numpy, you can get an Euclidean distance map `np.sum(np.square(im - Y), axis=2)`, where `im` is a M x N x 3 array and `Y` is a 1 x 3 array. \n",
    "\n",
    "\n",
    "    "
   ]
  },
  {
   "cell_type": "markdown",
   "metadata": {
    "deletable": false,
    "editable": false
   },
   "source": [
    "### Selecting rectangular regions of an image\n",
    "\n",
    "This can be done using array indexing...."
   ]
  },
  {
   "cell_type": "code",
   "execution_count": null,
   "metadata": {
    "scrolled": true
   },
   "outputs": [],
   "source": [
    "# We can select parts of the original image by using array range indexing\n",
    "\n",
    "# remeber that numpy arrays can be indexed using the colon (slicing) operator to indicate a range of indexes\n",
    "# e.g. a[0:10] selects the first 10 values of the array a\n",
    "# for example\n",
    "\n",
    "block = im[512:768,512:768] # select a region of size 256 x 256 at (512, 512)\n",
    "print('block has shape ', block.shape)\n",
    "\n",
    "plt.axis('off')\n",
    "plt.imshow(block)\n",
    "plt.show()\n"
   ]
  },
  {
   "cell_type": "markdown",
   "metadata": {
    "deletable": false,
    "editable": false
   },
   "source": [
    "## Exercise 2\n",
    "\n",
    "In this exercise, I want you to select 10 random blocks of size 128 x 128 from the image. \n",
    "\n",
    "\n",
    "### Random numbers\n",
    "To do this, we need to be able to generate random integers and `numpy.random.randint()` can do this,\n",
    "\n",
    "e.g. \n",
    "~~~~\n",
    "    height = im.shape[0] \n",
    "    width = im.shape[1]\n",
    "    x = np.random.randint(width) # one random number in range [0, width-1]\n",
    "    y = np.random.randint(height) # one random number in range [0, height-1]\n",
    "~~~~\n",
    "\n",
    "### Display multiple images in one figure\n",
    "\n",
    "To display your 10 images togehter in one figure, you can use pyplot.suplot().\n",
    "\n",
    "e.g.\n",
    "~~~~\n",
    "    # show the kth plot\n",
    "    plt.subplot(2,5, k) # plot k in an array of plots 2 rows x 5 columns\n",
    "    plt.imshow(block)\n",
    "    plt.axis('off')\n",
    "~~~~\n",
    "\n",
    "### Loop?\n",
    "\n",
    "Note that to solve this exercise, you need to use a for loop, e.g. something like \n",
    "~~~~\n",
    "    height = im.shape[0]\n",
    "    width = im.shape[1]\n",
    "\n",
    "    block_size = 128\n",
    "\n",
    "    for i in range(10):\n",
    "\n",
    "        # select random position of image block\n",
    "\n",
    "        # extract image block\n",
    "        \n",
    "        # display image block in subplot\n",
    "        \n",
    "        \n",
    "    plt.show()\n",
    "~~~~\n",
    "   "
   ]
  },
  {
   "cell_type": "markdown",
   "metadata": {
    "deletable": false,
    "editable": false
   },
   "source": [
    "## Subsampling and Aliasing artefacts\n",
    "\n",
    "The numpy slicing operator can also select the step of the index range, \n",
    "e.g. `a[0:10:2]` will select the first, third, fifth, seventh and ninth element, i.e. it will select every other\n",
    "element of the given range.\n",
    "\n",
    "We can use this do image subsampling.\n",
    "~~~~\n",
    "    im_subx2 = im[::2,::2] # image subamplex by a factor of 2\n",
    "~~~~"
   ]
  },
  {
   "cell_type": "code",
   "execution_count": null,
   "metadata": {},
   "outputs": [],
   "source": [
    "# subsample and display the bees image\n",
    "\n",
    "im_subx2 = im[::2,::2]\n",
    "\n",
    "print('subsampled size is ', im_subx2.shape)\n",
    "\n",
    "plt.axis('off')\n",
    "plt.imshow(im_subx2)"
   ]
  },
  {
   "cell_type": "markdown",
   "metadata": {
    "deletable": false,
    "editable": false
   },
   "source": [
    "## Exercise 3 -- Downsampling and upsampling\n",
    "\n",
    "It is not easy to see what the subsampling is doing to the bees image content (other than reducing the resolution).\n",
    "Instead, we can use a FM test pattern image (`testimage512.gif`) to visualise the artefacts created in the\n",
    "spatial frequencies.\n",
    "\n",
    "1. Load the and display the image `testimage512.gif` which is in the data directory.\n",
    "\n",
    "~~~~\n",
    "    fm = np.asarray(Image.open(data_dir + 'testimage512.gif'))\n",
    "\n",
    "    print(fm.shape, fm.dtype)\n",
    "    fig = plt.figure(figsize=(8,8))\n",
    "    plt.axis('off')\n",
    "    plt.imshow(fm, interpolation='sinc', cmap='gray') # use 'sinc' interpolation in imshow \n",
    "    plt.show()\n",
    "~~~~\n",
    "\n",
    "(Note we have to use a better display interpolation for the `imshow()` to avoid seeing display artefacts!)\n",
    "\n",
    "2. Use `plt.subplot()` to display side-by-side the testimage at resolutions which are reduced by factors 2, 4, and 8.\n",
    "\n",
    "3. Work out how to upsample the image by pixel duplication. Write a function to upsample an image, e.g.:\n",
    "\n",
    "~~~~\n",
    "    def upsample(im, size=2):\n",
    "    \n",
    "        # define an array of zeros of twice the size of the input im\n",
    "        output = np.zeros(...)\n",
    "        \n",
    "        # do a nested for loop to broad cast values from input to output\n",
    "        \n",
    "        for i in ... : # step in size\n",
    "            for j in ... : # step in size\n",
    "                \n",
    "                output[i:i+size,j:j+size] = im[i//size,j//size] # broad cast values\n",
    "                \n",
    "        return output\n",
    "~~~~\n",
    "                \n",
    "3. Use your function to upsample the downsampled image and display the results.\n"
   ]
  },
  {
   "cell_type": "markdown",
   "metadata": {
    "deletable": false
   },
   "source": [
    "## Antialiasing using blurring\n",
    "\n",
    "Aliasing is caused by not having a sufficient sampling rate for the frequencies present in the signal. \n",
    "\n",
    "To reduce the effects of aliasing when subsampling, we can attenuate (reduce) the high-frequencies above the Nyquist\n",
    "rate (twice the sampling rate) by blurring (low-pass filtering).\n",
    "\n",
    "The simplest form of low-pass filtering is blurring by local averaging.\n"
   ]
  },
  {
   "cell_type": "code",
   "execution_count": null,
   "metadata": {
    "deletable": false,
    "editable": false
   },
   "outputs": [],
   "source": [
    "# blurring by local averaging \n",
    "\n",
    "def local_average(im, size=3):\n",
    "\n",
    "    half_size = size//2\n",
    "    \n",
    "    # make an empty output array\n",
    "    output = np.zeros(im.shape, dtype='float') # an array the same size of zeros\n",
    "\n",
    "    # use a nested for loop to sweep over rows and columns \n",
    "    for i in range(half_size,im.shape[0]-half_size):\n",
    "        for j in range(half_size,im.shape[1]-half_size):\n",
    "            \n",
    "            # extract a square region around the current pixel \n",
    "            block = im[i-half_size:i+half_size,j-half_size:j+half_size]\n",
    "\n",
    "            # put the average value in the current output pixel\n",
    "            output[i,j] = np.mean(block)\n",
    "            \n",
    "    return output\n",
    "\n",
    "\n",
    "            "
   ]
  },
  {
   "cell_type": "markdown",
   "metadata": {
    "deletable": false,
    "editable": false
   },
   "source": [
    "## Exercise 4 -- Antialiasing\n",
    "\n",
    "This exercise you will use blurring prior to sub-sampling to antialias the image:\n",
    "    \n",
    "1. Use the function `local_average` to blur the FM test pattern image and show its effect for averaging \n",
    "    regions of different sizes, (e.g. 3, 5, 7)\n",
    "    \n",
    "2. Write a new function called `antialias_subsample` which where you take an input image, blur it and then sub-sample.\n",
    "\n",
    "3. Use your new function to show the compare a subsampled FM test pattern with and without the antialiasing blur.\n",
    "\n"
   ]
  },
  {
   "cell_type": "markdown",
   "metadata": {
    "deletable": false,
    "editable": false
   },
   "source": [
    "## Quantisation by bit-shift operations\n",
    "\n",
    "We can quantise the image range (for images this is usually 0..255) and visualise what happens if we quantise \n",
    "    the range to fewer levels, e.g. (128=7 bits, 64=6 bits, 32=5 bits, 16=4 bits, etc.).\n",
    "    \n",
    "\n",
    "In `numpy`, bytes can be represented by variable of data type `uint8` (unsigned integer, 8 bits), e.g.\n",
    "~~~~\n",
    "    a = np.uint8(10) # byte with value 10\n",
    "~~~~\n",
    "\n",
    "We can then left-shift or right-shift this value which multiples or divides by a factor of 2, e.g.\n",
    "~~~~\n",
    "    print(a<<1) # should print 20\n",
    "    \n",
    "    print(a>>1) # should print 5\n",
    "~~~~\n",
    "\n",
    "In Python we can print out the binary representation like this\n",
    "\n",
    "~~~~\n",
    "    print(\"{0:b}\".format(a))\n",
    "~~~~\n",
    "To quantise a number to say 4 bits, we therefore need to right-shift by 4, e.g. \n",
    "\n",
    "~~~~\n",
    "    a = np.uint8(57) # binary is [00111001]\n",
    "    \n",
    "    print(\"a is {0:b}\".format(b)) \n",
    "    print(\"a right-shift 4 is {0:b}\".format(a>>4)) \n",
    "~~~~\n",
    "\n",
    "We can then re-express the number in 8-bits by left-shifting the quantised value.\n",
    "~~~~\n",
    "        print(\"a quanited (in 0-255) range is {0:b}\".format((a>>4)<<4))) \n",
    "        \n",
    "~~~~\n",
    "Therefore with an image of type `uint8`, we can quantise it by right-shifting all the pixel values and then left-shifting them.\n"
   ]
  },
  {
   "cell_type": "code",
   "execution_count": null,
   "metadata": {
    "deletable": false,
    "editable": false
   },
   "outputs": [],
   "source": [
    "\n",
    "a = np.uint8(57) # make it 8 bits\n",
    "\n",
    "print(\"a is {0:b}\".format(a)) \n",
    "\n",
    "print(\"a right-shift 4 is {0:b}\".format(a>>4)) # right-shift (quantise)\n",
    "print(\"a right-shift then left-shift 4 is {0:b}\".format((a>>4)<<4)) # left-shift to see what it does\n",
    "\n",
    "# print out the decimal values\n",
    "print(\"a in 8 bits is \", a, ', quantised it becomes ', ((a>>4)<<4))"
   ]
  },
  {
   "cell_type": "markdown",
   "metadata": {
    "deletable": false,
    "editable": false
   },
   "source": [
    "## Exercise 5 -- Image quantisation\n",
    "\n",
    "1. Using the bit shifting method, write a function to quantize an input image to an arbirary number of bits between 1 and 8.\n",
    "\n",
    "~~~~\n",
    "    def quantise_image(im, bits=8):\n",
    "    \n",
    "        quantised = ...   # quantise to bits number of bits\n",
    "        \n",
    "        output = ... # remap to range 0..255 by reversing quantisation\n",
    "        \n",
    "        return output\n",
    "~~~~\n",
    "\n",
    "2. Show the effect of quantisation on the `peppers.jpg` image.\n",
    "\n",
    "3. Make a scalar image of the quantisation errors or 4-bit quantisation. \n",
    "    1. Where are the quantisation errors in the image?\n",
    "    2. Where are the quantisation errors most visible?\n"
   ]
  },
  {
   "cell_type": "markdown",
   "metadata": {
    "deletable": false,
    "editable": false
   },
   "source": [
    "## Colour conversion and Colour channel data compression\n",
    "\n",
    "We can convert image pixels from a RGB colour space to a luminance-chromanance colour space, \n",
    "    e.g. YCbCr using utility functions defined.\n",
    "    \n",
    "Here are two functions which do this operation.\n",
    "\n",
    "~~~~\n",
    "    def rgb2ycbcr(im):\n",
    "        xform = np.array([[.299, .587, .114], [-.1687, -.3313, .5], [.5, -.4187, -.0813]])\n",
    "        \n",
    "        ycbcr = im.dot(xform.T)\n",
    "        ycbcr[:,:,[1,2]] += 128\n",
    "        \n",
    "        return np.uint8(ycbcr)\n",
    "\n",
    "    def ycbcr2rgb(im):\n",
    "        xform = np.array([[1, 0, 1.402], [1, -0.34414, -.71414], [1, 1.772, 0]])\n",
    "        \n",
    "        rgb = im.astype(np.float)\n",
    "        \n",
    "        rgb[:,:,[1,2]] -= 128\n",
    "        rgb = rgb.dot(xform.T)\n",
    "        \n",
    "        np.putmask(rgb, rgb > 255, 255)\n",
    "        np.putmask(rgb, rgb < 0, 0)\n",
    "        \n",
    "        return np.uint8(rgb)\n",
    "~~~~\n",
    "\n",
    "Can you work out what they are doing?\n",
    "\n",
    "## Exercise 6 -- Colour conversion and colour channel 'compression'\n",
    "\n",
    "1. Define the two methods and use them to display the Y, Cb and Cr channels of the `peppers.jpg` image as gray-scale images.\n",
    "\n",
    "2. Use the `local_average` method to blur the Cb and Cr channels (either or both) and then convert them \n",
    "    back to a RGB image. Compare the the original image and the blurred Cb/Cr channel images. \n",
    "    \n",
    "3. Repeat the previous exercise but this time subsample and upsample the Cb/Cr images instead of blurring them.\n",
    "\n",
    "4. How much blurring/subsampling/upsampling can you do before you it starts to affect the reconstituted RGB image?\n",
    "\n",
    "5. By reducing the sizes of the Cb/Cr images by subsampling, we are in effect compressing the data. \n",
    "   \n",
    "   What is the compression factor if you subsample by some power-of-two factor $ F = 2^M $, where $ M = 1, 2, 3, ... $?"
   ]
  }
 ],
 "metadata": {
  "celltoolbar": "Edit Metadata",
  "kernelspec": {
   "display_name": "Python 3 (ipykernel)",
   "language": "python",
   "name": "python3"
  },
  "language_info": {
   "codemirror_mode": {
    "name": "ipython",
    "version": 3
   },
   "file_extension": ".py",
   "mimetype": "text/x-python",
   "name": "python",
   "nbconvert_exporter": "python",
   "pygments_lexer": "ipython3",
   "version": "3.9.12"
  }
 },
 "nbformat": 4,
 "nbformat_minor": 2
}
